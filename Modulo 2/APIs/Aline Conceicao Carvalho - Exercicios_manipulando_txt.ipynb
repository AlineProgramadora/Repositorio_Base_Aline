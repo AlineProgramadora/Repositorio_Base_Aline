{
 "cells": [
  {
   "cell_type": "markdown",
   "id": "ec2b2ae4",
   "metadata": {},
   "source": [
    "### Exercício 1: Criando e escrevendo em um arquivo\n",
    "\n",
    "Crie um arquivo chamado meu_arquivo.txt e escreva nele a seguinte frase: \"Estou criando esse arquivo de texto em Python!\""
   ]
  },
  {
   "cell_type": "code",
   "execution_count": 3,
   "id": "cffe2a6d",
   "metadata": {},
   "outputs": [],
   "source": [
    "with open('meu_arquivo.txt','w')as arquivo:\n",
    " arquivo.write(\"estou criando esse arquivo de texto em python!\")"
   ]
  },
  {
   "cell_type": "markdown",
   "id": "4b3f7a89",
   "metadata": {},
   "source": [
    "### Exercício 2: Lendo o conteúdo do arquivo\n",
    "\n",
    "\n",
    "Agora leia o conteúdo do arquivo meu_arquivo.txt que você criou no exercício anterior e mostre-o na tela."
   ]
  },
  {
   "cell_type": "code",
   "execution_count": 4,
   "id": "e5edc612",
   "metadata": {},
   "outputs": [
    {
     "name": "stdout",
     "output_type": "stream",
     "text": [
      "estou criando esse arquivo de texto em python!\n"
     ]
    }
   ],
   "source": [
    "with open('meu_arquivo.txt','r')as arquivo:\n",
    "    conteudo=arquivo.read()\n",
    "    print(conteudo)"
   ]
  },
  {
   "cell_type": "markdown",
   "id": "8184fdba",
   "metadata": {},
   "source": [
    "### Exercício 3: Adicionando mais texto\n",
    "\n",
    "Adicione a seguinte frase em uma nova linha do mesmo arquivo: \"Agora estou aprendendo a manipular arquivos!\""
   ]
  },
  {
   "cell_type": "code",
   "execution_count": 5,
   "id": "723d1e8d",
   "metadata": {},
   "outputs": [],
   "source": [
    "with open('meu_arquivo.txt','a')as arquivo:\n",
    "    arquivo.write(\"\\nagora estou aprendendo a manipular arquivos!\")"
   ]
  },
  {
   "cell_type": "markdown",
   "id": "82c4eb19",
   "metadata": {},
   "source": [
    "### Exercício 4: Contando linhas\n",
    "\n",
    "Crie um programa que conta quantas linhas tem o arquivo meu_arquivo.txt e mostra o resultado."
   ]
  },
  {
   "cell_type": "code",
   "execution_count": 6,
   "id": "fd757b5e",
   "metadata": {},
   "outputs": [
    {
     "name": "stdout",
     "output_type": "stream",
     "text": [
      "o arquivo tem 2 linhas.\n"
     ]
    }
   ],
   "source": [
    "with open('meu_arquivo.txt','r')as arquivo:\n",
    "    linhas=arquivo.readlines()\n",
    "    print(f\"o arquivo tem {len(linhas)} linhas.\")"
   ]
  },
  {
   "cell_type": "markdown",
   "id": "6bc0b78f",
   "metadata": {},
   "source": [
    "### Exercício 5: Lista de compras\n",
    "\n",
    "Crie um arquivo chamado compras.txt e escreva nele, cada um em uma linha, os seguintes itens: \"Maçã\", \"Banana\", \"Leite\", \"Pão\"."
   ]
  },
  {
   "cell_type": "code",
   "execution_count": 9,
   "id": "97bb5660",
   "metadata": {},
   "outputs": [],
   "source": [
    "itens=[\"Maça\",\"Banana\",\"Leite\",\"pão\"]\n",
    "with open('compras.txt','w', encoding='utf-8')as arquivo:  # utf-8' tnasforma a codificação do arquivo em português \n",
    "    for item in itens:arquivo.write(f\"{item}\\n\")"
   ]
  },
  {
   "cell_type": "markdown",
   "id": "71cf0898",
   "metadata": {},
   "source": [
    "### Exercício 6: Lendo linhas específicas\n",
    "\n",
    "\n",
    "Leia o arquivo compras.txt e mostre apenas o segundo item da lista (Banana)."
   ]
  },
  {
   "cell_type": "code",
   "execution_count": 10,
   "id": "6d705e94",
   "metadata": {},
   "outputs": [
    {
     "name": "stdout",
     "output_type": "stream",
     "text": [
      "Banana\n"
     ]
    }
   ],
   "source": [
    "with open('compras.txt','r')as arquivo:\n",
    "    linhas=arquivo.readlines()\n",
    "    print(linhas[1].strip())"
   ]
  },
  {
   "cell_type": "markdown",
   "id": "bc372146",
   "metadata": {},
   "source": [
    "### Exercício 7: Adicionando itens\n",
    "\n",
    "Peça ao usuário para digitar um novo item e adicione-o ao final da lista no arquivo compras.txt."
   ]
  },
  {
   "cell_type": "code",
   "execution_count": 11,
   "id": "a6e7617c",
   "metadata": {},
   "outputs": [],
   "source": [
    "novo_item=input(\"Digite um novo item para adicionar à lista:\")\n",
    "with open('compras.txt','a')as arquivo:\n",
    "    arquivo.write(novo_item + \"\\n\")\n",
    "\n",
    "   "
   ]
  },
  {
   "cell_type": "markdown",
   "id": "b434b909",
   "metadata": {},
   "source": [
    "### Exercício 8: Copiando arquivos\n",
    "\n",
    "Crie um programa que copia todo o conteúdo de meu_arquivo.txt para um novo arquivo chamado copia.txt."
   ]
  },
  {
   "cell_type": "code",
   "execution_count": 18,
   "id": "3aab9832",
   "metadata": {},
   "outputs": [
    {
     "name": "stdout",
     "output_type": "stream",
     "text": [
      "Arquivo copiado com sucesso!\n"
     ]
    }
   ],
   "source": [
    "with open('meu_arquivo.txt','r')as arquivo_origem:\n",
    "      conteudo=arquivo_origem.read()\n",
    "with open('copia.txt','w')as arquivo_destino:\n",
    "        arquivo_destino.write(conteudo)\n",
    "        print(\"Arquivo copiado com sucesso!\")"
   ]
  },
  {
   "cell_type": "markdown",
   "id": "b24e8386",
   "metadata": {},
   "source": [
    "### Exercício 9: Contando palavras\n",
    "\n",
    "Crie um programa que conta quantas palavras tem no arquivo meu_arquivo.txt (considere que as palavras são separadas por espaços)."
   ]
  },
  {
   "cell_type": "code",
   "execution_count": 19,
   "id": "896d7462",
   "metadata": {},
   "outputs": [
    {
     "name": "stdout",
     "output_type": "stream",
     "text": [
      "O arquivo tem 14 palavras.\n"
     ]
    }
   ],
   "source": [
    "with open('meu_arquivo.txt','r')as arquivo:\n",
    "    conteudo=arquivo.read()\n",
    "    palavras=conteudo.split()\n",
    "    numero_palavras=len(palavras)\n",
    "    print(f\"O arquivo tem {numero_palavras} palavras.\")"
   ]
  },
  {
   "cell_type": "markdown",
   "id": "3bbe37c9",
   "metadata": {},
   "source": [
    "### Exercício 10: Juntando arquivos\n",
    "\n",
    "\n",
    "Crie um programa que lê o conteúdo de meu_arquivo.txt e compras.txt e cria um novo arquivo chamado juntado.txt com o conteúdo dos dois arquivos, um após o outro."
   ]
  },
  {
   "cell_type": "code",
   "execution_count": 21,
   "id": "c932924e",
   "metadata": {},
   "outputs": [],
   "source": [
    "with open('meu_arquivo.txt','r')as arquivo1,open('compras.txt','r')as arquivo2:\n",
    "    conteudo1=arquivo1.read()\n",
    "    conteudo2=arquivo2.read()\n",
    "with open('juntado.txt','w')as arquivo_saida:\n",
    "    arquivo_saida.write(conteudo1)\n",
    "    arquivo_saida.write('\\n')\n",
    "    arquivo_saida.write(conteudo2)\n",
    "    "
   ]
  }
 ],
 "metadata": {
  "kernelspec": {
   "display_name": "Python 3",
   "language": "python",
   "name": "python3"
  },
  "language_info": {
   "codemirror_mode": {
    "name": "ipython",
    "version": 3
   },
   "file_extension": ".py",
   "mimetype": "text/x-python",
   "name": "python",
   "nbconvert_exporter": "python",
   "pygments_lexer": "ipython3",
   "version": "3.13.2"
  }
 },
 "nbformat": 4,
 "nbformat_minor": 5
}
