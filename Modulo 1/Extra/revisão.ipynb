{
 "cells": [
  {
   "cell_type": "markdown",
   "id": "0675872e",
   "metadata": {},
   "source": [
    "### Idade\n"
   ]
  },
  {
   "cell_type": "code",
   "execution_count": 4,
   "id": "160b5b7a",
   "metadata": {},
   "outputs": [
    {
     "name": "stdout",
     "output_type": "stream",
     "text": [
      "Você é menor de idade👶🏼\n"
     ]
    }
   ],
   "source": [
    "idade=int(input(\"por favor digite sua idade:\"))\n",
    "if idade==18:\n",
    " print(\"Você é maior de idade🔞\")\n",
    "elif idade > 18 and idade < 60:\n",
    " print(\"adulto 👩🏾‍🦱\")\n",
    "elif idade > 60:\n",
    " print(\"idoso👵🏾\")\n",
    "else: \n",
    "    print(\"Você é menor de idade👶🏼\")"
   ]
  },
  {
   "cell_type": "markdown",
   "id": "626785e2",
   "metadata": {},
   "source": [
    "### calcular media\n"
   ]
  },
  {
   "cell_type": "code",
   "execution_count": 6,
   "id": "14dca452",
   "metadata": {},
   "outputs": [
    {
     "name": "stdout",
     "output_type": "stream",
     "text": [
      " A media dos três bimestres é:7.00\n",
      "aprovado\n"
     ]
    }
   ],
   "source": [
    "#pedir a nota dos três bimestres\n",
    "nota1=float(input(\"Digite a nota do 1° bimestre:\"))\n",
    "nota2=float(input(\"Digite a nota do 2° bimestre :\"))\n",
    "nota3=float(input(\"Digite a nota do 3° bimestre :\"))\n",
    "#calcular a media \n",
    "media=(nota1+nota2+nota3)/3\n",
    "print(f\" A media dos três bimestres é:{media:.2f}\")\n",
    "if media==5:\n",
    "    print(\"recuperação vacilão\")\n",
    "elif media >6 and media <10:\n",
    "    print(\"aprovado\")\n",
    "else:\n",
    "    print(\"reprovado\")"
   ]
  },
  {
   "cell_type": "markdown",
   "id": "a186559e",
   "metadata": {},
   "source": [
    "### calculadora"
   ]
  },
  {
   "cell_type": "code",
   "execution_count": 9,
   "id": "705d76f3",
   "metadata": {},
   "outputs": [
    {
     "name": "stdout",
     "output_type": "stream",
     "text": [
      "O resultado de 100.0 * 9.0 é :900.0\n"
     ]
    }
   ],
   "source": [
    "numero1=float(input(\"Digite o primeiro número:\"))\n",
    "operacao=input(\"Digite a operação (+,-,*,/):\")\n",
    "numero2=float(input(\"Digite o segundo número:\"))\n",
    "\n",
    "if operacao=='+':\n",
    "    resultado=numero1+numero2\n",
    "    print(f\"O resultado de {numero1} + {numero2} é :{resultado}\")\n",
    "elif operacao=='-':\n",
    "    resultado=numero1-numero2\n",
    "    print(f\"O resultado de {numero1} - {numero2} é :{resultado}\")\n",
    "elif operacao=='*':\n",
    "    resultado=numero1*numero2\n",
    "    print(f\"O resultado de {numero1} * {numero2} é :{resultado}\")\n",
    "elif operacao=='/':\n",
    "    if numero2==0:\n",
    "        print(\"Erro: Divisão por zero não é permitida!\")\n",
    "    else:\n",
    "        resultado=numero1/numero2\n",
    "        print(f\" O resultado de {numero1} / {numero2} é :{resultado}\")\n",
    "else:\n",
    "    print(\"Operação inválida. Por favor , use: =,-,*,/.\")"
   ]
  }
 ],
 "metadata": {
  "kernelspec": {
   "display_name": "Python 3",
   "language": "python",
   "name": "python3"
  },
  "language_info": {
   "codemirror_mode": {
    "name": "ipython",
    "version": 3
   },
   "file_extension": ".py",
   "mimetype": "text/x-python",
   "name": "python",
   "nbconvert_exporter": "python",
   "pygments_lexer": "ipython3",
   "version": "3.13.2"
  }
 },
 "nbformat": 4,
 "nbformat_minor": 5
}
