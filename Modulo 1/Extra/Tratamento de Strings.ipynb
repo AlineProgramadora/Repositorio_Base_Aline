{
 "cells": [
  {
   "cell_type": "markdown",
   "id": "423a416a",
   "metadata": {},
   "source": [
    "### Tratamentos de Texto (string)\n",
    "\n",
    "Objetivo: Mostrar a importância de manipular textos em programação.\n",
    "\n",
    "\n",
    "\n",
    "\"Vocês já pensaram como os apps sabem seu nome quando você faz login? Ou como o Instagram mostra seu username em letras minúsculas? Tudo isso usa tratamento de strings!\"\n",
    "\n",
    "O que é uma String?\n",
    "\n",
    "Sequência de caracteres (letras, números, símbolos).\n",
    "\n",
    "Em Python, vem entre \"aspas\"."
   ]
  },
  {
   "cell_type": "markdown",
   "id": "5f38bab9",
   "metadata": {},
   "source": [
    "### 2 - Operações Básicas com strings (textos)\n",
    "\n",
    "a) Juntar textos ou em outras palavras concatenar"
   ]
  },
  {
   "cell_type": "code",
   "execution_count": null,
   "id": "5cd6b8e7",
   "metadata": {},
   "outputs": [
    {
     "name": "stdout",
     "output_type": "stream",
     "text": [
      "Mateus Silva\n"
     ]
    }
   ],
   "source": [
    "nome = \"Mateus\"  \n",
    "sobrenome = \"Silva\"                      ###ligar(-se), juntar(-se) numa cadeia ou sequência lógica ou orgânica                      \n",
    "nome_completo = nome + \" \" + sobrenome  \n",
    "print(nome_completo) "
   ]
  },
  {
   "cell_type": "code",
   "execution_count": 2,
   "id": "a03ea409",
   "metadata": {},
   "outputs": [
    {
     "name": "stdout",
     "output_type": "stream",
     "text": [
      "Aline Conceição\n"
     ]
    }
   ],
   "source": [
    "nome=\"Aline\"\n",
    "sobrenome=\"Conceição\"       \n",
    "\n",
    "nome_completo = nome + \" \" + sobrenome\n",
    "print(nome_completo)"
   ]
  },
  {
   "cell_type": "markdown",
   "id": "f2fddf3a",
   "metadata": {},
   "source": [
    "b) Tamanho da String\n"
   ]
  },
  {
   "cell_type": "code",
   "execution_count": 4,
   "id": "1a01fe4d",
   "metadata": {},
   "outputs": [
    {
     "name": "stdout",
     "output_type": "stream",
     "text": [
      "5\n"
     ]
    }
   ],
   "source": [
    "tamanho = len(nome)\n",
    "print (tamanho)\n"
   ]
  },
  {
   "cell_type": "code",
   "execution_count": 19,
   "id": "36b262cf",
   "metadata": {},
   "outputs": [
    {
     "name": "stdout",
     "output_type": "stream",
     "text": [
      "meu deus que nome grande!\n"
     ]
    }
   ],
   "source": [
    "### qual o tamanho ?\n",
    "\n",
    "nome=input(\"qual o seu nome?\")\n",
    "tamanho=len(nome)\n",
    "if tamanho >= 6:\n",
    "    print(\"meu deus que nome grande!\")\n",
    "elif  tamanho ==5:\n",
    "    print('ta na media')\n",
    "else:\n",
    "    print (\"que nome pequeno kkk\")"
   ]
  },
  {
   "cell_type": "markdown",
   "id": "6222c7c4",
   "metadata": {},
   "source": [
    "c) Acessar Letras (Índices)"
   ]
  },
  {
   "cell_type": "code",
   "execution_count": 20,
   "id": "21af5f71",
   "metadata": {},
   "outputs": [
    {
     "name": "stdout",
     "output_type": "stream",
     "text": [
      "O\n",
      "a\n"
     ]
    }
   ],
   "source": [
    "frase = \"Olá meus garotos(a) de Programa\"  \n",
    "print(frase[0])   # 'O' (primeira letra)  \n",
    "print(frase[-1])  # 'a' (última letra)"
   ]
  },
  {
   "cell_type": "markdown",
   "id": "05b42fdb",
   "metadata": {},
   "source": [
    "d) Fatiamento (Slicing)"
   ]
  },
  {
   "cell_type": "markdown",
   "id": "ddb8f9f4",
   "metadata": {},
   "source": [
    "### meu nome"
   ]
  },
  {
   "cell_type": "code",
   "execution_count": 21,
   "id": "95ade610",
   "metadata": {},
   "outputs": [
    {
     "name": "stdout",
     "output_type": "stream",
     "text": [
      "A\n",
      "o\n"
     ]
    }
   ],
   "source": [
    "frase = \"Aline Concição Carvalho\"  \n",
    "print(frase[0])   \n",
    "print(frase[-1])"
   ]
  },
  {
   "cell_type": "code",
   "execution_count": 2,
   "id": "50f44874",
   "metadata": {},
   "outputs": [
    {
     "name": "stdout",
     "output_type": "stream",
     "text": [
      "mateus@\n",
      "mail.\n"
     ]
    }
   ],
   "source": [
    "email = \"mateus@gmail.com\"  \n",
    "print(email[:7])    # \"mateus\" (do início até o índice 6)  \n",
    "print(email[8:13])  # \"gmail\" (do índice 8 ao 12)"
   ]
  },
  {
   "cell_type": "code",
   "execution_count": 5,
   "id": "2c41d288",
   "metadata": {},
   "outputs": [
    {
     "name": "stdout",
     "output_type": "stream",
     "text": [
      "mateus\n",
      "@gmail.com\n"
     ]
    }
   ],
   "source": [
    "email = \"mateus@gmail.com\"  \n",
    "print(email[:6])    \n",
    "print(email[6:]) "
   ]
  },
  {
   "cell_type": "markdown",
   "id": "6f09cf29",
   "metadata": {},
   "source": [
    "### 3. Métodos Úteis"
   ]
  },
  {
   "cell_type": "markdown",
   "id": "0f891d89",
   "metadata": {},
   "source": [
    "a) Conversão de minúsculas para maiúsculas "
   ]
  },
  {
   "cell_type": "code",
   "execution_count": 7,
   "id": "87258ddf",
   "metadata": {},
   "outputs": [
    {
     "name": "stdout",
     "output_type": "stream",
     "text": [
      "python é demais!\n",
      "PYTHON É DEMAIS!\n"
     ]
    }
   ],
   "source": [
    "texto = \"Python é Demais!\"  \n",
    "print(texto.lower())   # \"python é demais!\" tudo :minusculo\n",
    "print(texto.upper())   # \"PYTHON É DEMAIS!\" tudo:maiusculo"
   ]
  },
  {
   "cell_type": "code",
   "execution_count": 8,
   "id": "62112cfa",
   "metadata": {},
   "outputs": [
    {
     "name": "stdout",
     "output_type": "stream",
     "text": [
      "python é demais!\n"
     ]
    }
   ],
   "source": [
    "frase=\"ela e linda De MAis\"\n",
    "print(texto.lower()) \n"
   ]
  },
  {
   "cell_type": "code",
   "execution_count": 9,
   "id": "434e1115",
   "metadata": {},
   "outputs": [
    {
     "name": "stdout",
     "output_type": "stream",
     "text": [
      "PYTHON É DEMAIS!\n"
     ]
    }
   ],
   "source": [
    "frase=\"ela e linda De MAis\"\n",
    "print(texto.upper())"
   ]
  },
  {
   "cell_type": "markdown",
   "id": "926010d9",
   "metadata": {},
   "source": [
    "b) Substituição"
   ]
  },
  {
   "cell_type": "code",
   "execution_count": 10,
   "id": "d17e64d6",
   "metadata": {},
   "outputs": [
    {
     "name": "stdout",
     "output_type": "stream",
     "text": [
      "Eu adoro segunda-feira\n"
     ]
    }
   ],
   "source": [
    "mensagem = \"Eu odeio segunda-feira\"  \n",
    "print(mensagem.replace(\"odeio\", \"adoro\"))  # \"Eu adoro segunda-feira\""
   ]
  },
  {
   "cell_type": "code",
   "execution_count": 15,
   "id": "29a44197",
   "metadata": {},
   "outputs": [
    {
     "name": "stdout",
     "output_type": "stream",
     "text": [
      "Eu odeio mamão\n",
      "Eu eu adoro chocolate\n"
     ]
    }
   ],
   "source": [
    "mensagem = \"Eu adoro mamão\"  \n",
    "print(mensagem.replace(\"adoro\", \"odeio\"))\n",
    "\n",
    "mensagem = \"Eu eu adoro chocolate\"  \n",
    "print(mensagem.replace(\"odeio\", \"adoro\"))\n",
    "\n",
    "\n"
   ]
  },
  {
   "cell_type": "markdown",
   "id": "bf5e453f",
   "metadata": {},
   "source": [
    "c) Divisão de Strings"
   ]
  },
  {
   "cell_type": "code",
   "execution_count": 16,
   "id": "164d4642",
   "metadata": {},
   "outputs": [
    {
     "name": "stdout",
     "output_type": "stream",
     "text": [
      "['python', 'programação', 'jovens']\n"
     ]
    }
   ],
   "source": [
    "hashtags = \"python#programação#jovens\"                            ###é uma sequência de caracteres alfanuméricos (letras, números e/ou símbolos).\n",
    "print(hashtags.split(\"#\"))     # [\"python\", \"programação\", \"jovens\"]\n",
    "\n",
    "\n",
    "\n",
    "\n"
   ]
  },
  {
   "cell_type": "code",
   "execution_count": 31,
   "id": "3ea99765",
   "metadata": {},
   "outputs": [
    {
     "name": "stdout",
     "output_type": "stream",
     "text": [
      "['o', 'professor', 'de', 'python', 'é', 'o', 'melhor']\n",
      "professor\n"
     ]
    }
   ],
   "source": [
    "ache_a_frase = \"o1professor1de1python1é1o1melhor\"\n",
    "resolvido = ache_a_frase.split(\"1\")\n",
    "print(resolvido)\n",
    "print(resolvido[1])"
   ]
  },
  {
   "cell_type": "markdown",
   "id": "76a1722a",
   "metadata": {},
   "source": [
    "d) Remoção de Espaços"
   ]
  },
  {
   "cell_type": "code",
   "execution_count": 19,
   "id": "84eb0e89",
   "metadata": {},
   "outputs": [
    {
     "name": "stdout",
     "output_type": "stream",
     "text": [
      "olá\n"
     ]
    }
   ],
   "source": [
    "user_input = \"   olá   \"  \n",
    "print(user_input.strip())  # \"olá\" (remove espaços extras)"
   ]
  },
  {
   "cell_type": "code",
   "execution_count": null,
   "id": "6c279dc5",
   "metadata": {},
   "outputs": [
    {
     "name": "stdout",
     "output_type": "stream",
     "text": [
      "Aline\n"
     ]
    }
   ],
   "source": [
    "user_input = \"  Aline        \"  \n",
    "print(user_input.strip()) "
   ]
  },
  {
   "cell_type": "markdown",
   "id": "f2ab3244",
   "metadata": {},
   "source": [
    "### 4 - Primeiro Desafio: Criar um \"Gerador de Username\" que:\n",
    "\n",
    "Pede o nome completo do usuário;\n",
    "\n",
    "Gera um username no formato nome.sobrenome (minúsculas, sem espaços)."
   ]
  },
  {
   "cell_type": "markdown",
   "id": "d6c81049",
   "metadata": {},
   "source": []
  },
  {
   "cell_type": "markdown",
   "id": "9581ce88",
   "metadata": {},
   "source": [
    "### lembrete"
   ]
  },
  {
   "cell_type": "code",
   "execution_count": 1,
   "id": "f43a2dfe",
   "metadata": {},
   "outputs": [
    {
     "name": "stdout",
     "output_type": "stream",
     "text": [
      "seu username é: aline.carvalho\n"
     ]
    }
   ],
   "source": [
    "nome_completo = input(\"Digite seu nome completo\")\n",
    "partes_do_nome = nome_completo.split()\n",
    "primeiro_nome = partes_do_nome[0]\n",
    "ultimo_nome = partes_do_nome[-1]                        \n",
    "seu_nome = (primeiro_nome + \".\" + ultimo_nome)\n",
    "print(\"seu username é:\", seu_nome)"
   ]
  },
  {
   "cell_type": "code",
   "execution_count": 5,
   "id": "9192c7f2",
   "metadata": {},
   "outputs": [
    {
     "name": "stdout",
     "output_type": "stream",
     "text": [
      "aline conceição carvalho\n",
      "['aline', 'conceição', 'carvalho']\n",
      "aline\n",
      "carvalho\n",
      "aline,carvalho\n"
     ]
    }
   ],
   "source": [
    "#Pede o nome completo\n",
    "nome_completo=input(\"digite seu nome completo:\")\n",
    "#tira o espaço antes e depois\n",
    "nome_sem_espaco=nome_completo.strip()\n",
    "#joga o nome para minusculo\n",
    "nome_minusculo=nome_sem_espaco.lower()\n",
    "print(nome_minusculo)\n",
    "#quebra nome\n",
    "quebra_nome=nome_minusculo.split(\" \")\n",
    "print(quebra_nome)\n",
    "#pega o primeiro nome\n",
    "primeiro_nome=quebra_nome[0]\n",
    "print(primeiro_nome)\n",
    "#pegar o ultimo nome\n",
    "ultimo_nome=quebra_nome[-1]\n",
    "print(ultimo_nome)\n",
    "#crie o usuário\n",
    "usuario=primeiro_nome+\",\"+ultimo_nome \n",
    "print(usuario)"
   ]
  },
  {
   "cell_type": "markdown",
   "id": "25399d2d",
   "metadata": {},
   "source": [
    "### Segundo Desafio"
   ]
  },
  {
   "cell_type": "markdown",
   "id": "e790bc58",
   "metadata": {},
   "source": [
    "Verificar se uma senha tem pelo menos 8 caracteres:"
   ]
  },
  {
   "cell_type": "code",
   "execution_count": 6,
   "id": "2d9ff656",
   "metadata": {},
   "outputs": [
    {
     "name": "stdout",
     "output_type": "stream",
     "text": [
      "sua senha é valida\n"
     ]
    }
   ],
   "source": [
    "senha=input(\"digite sua senha:\")\n",
    "if len(senha)>=8:\n",
    " print(\"sua senha é valida\")\n",
    "else:\n",
    " print(\"A senha deve ter pelo menos 8 caracteres.tente novamente.\")"
   ]
  },
  {
   "cell_type": "markdown",
   "id": "b3283aa0",
   "metadata": {},
   "source": [
    "### METODO ANNY"
   ]
  },
  {
   "cell_type": "code",
   "execution_count": null,
   "id": "4762ae83",
   "metadata": {},
   "outputs": [],
   "source": [
    "nome=input(\"digite  o  nome completo\")\n",
    "print(nome.lower().replace(\" \",\".\"))\n"
   ]
  },
  {
   "cell_type": "markdown",
   "id": "5d54ef78",
   "metadata": {},
   "source": [
    "### METODO HELLEN de RESOLVER"
   ]
  },
  {
   "cell_type": "code",
   "execution_count": null,
   "id": "85e6ed12",
   "metadata": {},
   "outputs": [],
   "source": [
    "nome=input(\"digite seu nome \").strip().lower()\n",
    "sobrenome=input(\"digite seu sobrenome\").strip().lower()\n",
    "\n",
    "usuario=nome+\".\"+sobrenome\n",
    "print(f\"seu usuário é {usuario}\")"
   ]
  },
  {
   "cell_type": "markdown",
   "id": "a58aa74f",
   "metadata": {},
   "source": [
    "### 5. Exercício Final (Para Casa)\n",
    "\n",
    "Crie um \"Tradutor de Internetês\":\n",
    "\n",
    "Substitui palavras por abreviações (ex: \"você\" → \"vc\", \"tamo junto\" → \"tmj\").\n",
    "\n",
    "Dica: Use .replace() múltiplas vezes!"
   ]
  },
  {
   "cell_type": "code",
   "execution_count": 14,
   "id": "abf41fae",
   "metadata": {},
   "outputs": [
    {
     "name": "stdout",
     "output_type": "stream",
     "text": [
      " seu usuário é aline você eé linda\n",
      "texto tradusido: None\n"
     ]
    }
   ],
   "source": [
    "def tradutor_internetese(texto):\n",
    "#ai eu tenho que fazer a subistituição\n",
    " texto1=texto.replace(\"você\",\"vc\")        \n",
    " texto2=texto.replace(\"tamo junto\",\"tmj\")\n",
    " texto3=texto.replace(\"para\",\"p/\")\n",
    " usuario=input(\"Qual é seu nome?\")\n",
    " print(f\" seu usuário é {usuario}\")\n",
    "#texto  a ser traduzido\n",
    "texto_original=input(\"Digite o texto para traduzir:\")\n",
    "#traduzindo o texto\n",
    "texto_traduzido=tradutor_internetese(texto_original)\n",
    "#eu tento sair do resultado\n",
    "print(\"texto tradusido:\",texto_traduzido)"
   ]
  },
  {
   "cell_type": "code",
   "execution_count": null,
   "id": "59bd40ab",
   "metadata": {},
   "outputs": [],
   "source": [
    "palavra1=input(\"digite uma palavra\")\n",
    "print(palavra1.replace(\"você\",\"vc\"))\n",
    "palavra2=input(\"digite sua palavra\")\n",
    "print(palavra2.replace(\"tamo junto\",\"tmj\"))"
   ]
  },
  {
   "cell_type": "markdown",
   "id": "1f63270f",
   "metadata": {},
   "source": [
    "### CALCULAR A MÉDIA"
   ]
  },
  {
   "cell_type": "code",
   "execution_count": null,
   "id": "37325355",
   "metadata": {},
   "outputs": [
    {
     "name": "stdout",
     "output_type": "stream",
     "text": [
      "você tirou a seguinte nota:5.0,7.0,10.0\n",
      "alino aprovado\n"
     ]
    }
   ],
   "source": [
    "nome=input('Nome do aluno:')\n",
    "n1=float(input('Nota da primeira prova:'))               \n",
    "n2=float(input('Nota da segunda prova:'))\n",
    "n3=float(input('Nota da terceira  prova:'))\n",
    "media=(n1+n2+n3)/3\n",
    "print(f\"Você adquiriu a seguinte nota:{n1},{n2},{n3}\")\n",
    "\n",
    "if media >=5:\n",
    "    print('Alino aprovado')\n",
    "elif media==3:\n",
    "    print(' Você esta de recuperação!')\n",
    "else:\n",
    "    print('Aluno reprovado')"
   ]
  },
  {
   "cell_type": "markdown",
   "id": "89ec1c68",
   "metadata": {},
   "source": [
    "### PLAYLIST"
   ]
  },
  {
   "cell_type": "code",
   "execution_count": null,
   "id": "2972217c",
   "metadata": {},
   "outputs": [],
   "source": [
    "playlist=[]\n",
    "\n",
    "for musica in range (3):                #for :repetir\n",
    "    musica=input(\"DIGITE UMA MÚSICA\")\n",
    "    playlist.append(musica)\n",
    "\n",
    "\n",
    "    print(f\"A SUA PLAYLIST É {playlist}\")"
   ]
  },
  {
   "cell_type": "code",
   "execution_count": null,
   "id": "e587e99a",
   "metadata": {},
   "outputs": [],
   "source": [
    "playlist=[]\n",
    "\n",
    "for musica in range (3):                #for :repetir\n",
    "    musica=input(\"DIGITE UMA MÚSICA\")\n",
    "    playlist.append(musica)\n",
    "\n",
    "\n",
    "    print(f\"A SUA PLAYLIST É {playlist}\")"
   ]
  },
  {
   "cell_type": "markdown",
   "id": "babd7a7c",
   "metadata": {},
   "source": [
    "### 6. Conclusão\n",
    "Recapitulação:\n",
    "\n",
    "Strings são textos delimitados por aspas.\n",
    "\n",
    "Podemos acessar letras, fatiar, converter, dividir e muito mais!\n",
    "\n",
    "Próxima Aula:\n",
    "\n",
    "Trabalhar com listas e loops em strings (ex: contar vogais).\n",
    "\n",
    "Feedback:\n",
    "\n",
    "\"O que vocês acharam mais útil? Alguma dúvida para tirar?\""
   ]
  }
 ],
 "metadata": {
  "kernelspec": {
   "display_name": "Python 3",
   "language": "python",
   "name": "python3"
  },
  "language_info": {
   "codemirror_mode": {
    "name": "ipython",
    "version": 3
   },
   "file_extension": ".py",
   "mimetype": "text/x-python",
   "name": "python",
   "nbconvert_exporter": "python",
   "pygments_lexer": "ipython3",
   "version": "3.13.2"
  }
 },
 "nbformat": 4,
 "nbformat_minor": 5
}
