{
 "cells": [
  {
   "cell_type": "markdown",
   "id": "f445e552",
   "metadata": {},
   "source": [
    " 🧪### Revisão de prova - Missão: Condicionais 🤖\n",
    "\n",
    "Você está sendo avaliado(a) em sua habilidade de tomar decisões automatizadas por meio de códigos. Em cada uma das atividades a seguir, use estruturas condicionais com sabedoria."
   ]
  },
  {
   "cell_type": "markdown",
   "id": "769337a0",
   "metadata": {},
   "source": [
    "### ⚖️ Desafio 01 - Avaliação de Desempenho na Agência 🧾 (Usando if, múltiplos elif e else)"
   ]
  },
  {
   "cell_type": "markdown",
   "id": "14f80018",
   "metadata": {},
   "source": [
    "O Sistema de Avaliação da Agência Central de Inteligência precisa classificar os agentes de acordo com sua nota final. Sua missão é automatizar esse processo."
   ]
  },
  {
   "cell_type": "markdown",
   "id": "89f6fff0",
   "metadata": {},
   "source": [
    "🎯 Objetivo:\n",
    "Solicitar o nome do agente e sua nota final (0 a 10).\n",
    "Exibir a classificação:"
   ]
  },
  {
   "cell_type": "markdown",
   "id": "234495dd",
   "metadata": {},
   "source": [
    "Solicitar o nome do agente e sua nota final (0 a 10).\n",
    "Exibir a classificação:\n",
    "\n",
    "Nota\tClassificação\n",
    "\n",
    "9.0 a 10.0\tExcelente 🏅\n",
    "\n",
    "7.0 a 8.9\tBom 👍\n",
    "\n",
    "5.0 a 6.9\tRegular ⚠️\n",
    "\n",
    "3.0 a 4.9\tRuim \n",
    "\n",
    "0.0 a 2.9\tCrítico 🚨\n",
    "Fora do intervalo\tNota inválida ❌\n"
   ]
  },
  {
   "cell_type": "markdown",
   "id": "41369ade",
   "metadata": {},
   "source": [
    "Exibir mensagem:\n",
    "\"Agente [NOME], sua classificação é: [classificação] (nota: [nota])\"\n"
   ]
  },
  {
   "cell_type": "markdown",
   "id": "bd552298",
   "metadata": {},
   "source": [
    "📦 Instruções Gerais\n",
    "\n",
    "Mantenha seu código indentado corretamente e com prints claros.\n",
    "Personalize a saída sempre que possível usando o nome do usuário.\n"
   ]
  },
  {
   "cell_type": "markdown",
   "id": "e540ea62",
   "metadata": {},
   "source": [
    "Boa sorte nas decisões lógicas, agente.\n",
    "A sua capacidade de condicionar pode alterar o curso do código.\n"
   ]
  },
  {
   "cell_type": "code",
   "execution_count": null,
   "id": "77ac96b4",
   "metadata": {},
   "outputs": [
    {
     "name": "stdout",
     "output_type": "stream",
     "text": [
      "AGENTE aline, sua nota é 9.0 - BOM\n"
     ]
    }
   ],
   "source": [
    "nome=(input(\"QUAL O SEU NOME?\"))\n",
    "nota_classificacao=float(input(\"QUAL A SUA NOTA DE CLASSIFICAÇÃO?\"))\n",
    "\n",
    "if nota_classificacao>=9.0 or nota_classificacao ==10.0:\n",
    "    print(f\"AGENTE {nome}, sua nota é {nota_classificacao} - EXCELENTE!🏅\")                     #and no lugar de or se a resposta que vc colocar resposta errada vai para o de baixo\n",
    "elif nota_classificacao>=7.0 or nota_classificacao == 8.9:\n",
    "    print(f\"AGENTE {nome}, sua nota é {nota_classificacao} - BOM👍🏾\")\n",
    "elif nota_classificacao>=5.0 or nota_classificacao==6.9:\n",
    "    print(f\"AGENTE {nome}, sua nota é {nota_classificacao} - REGULAR⚠️\")\n",
    "elif nota_classificacao>=3.0 or nota_classificacao==4.9:\n",
    "    print(f\"AGENTE {nome}, sua nota é {nota_classificacao} - RUIM😥\")\n",
    "elif nota_classificacao>=0.0 or nota_classificacao==2.9:\n",
    "    print(f\"AGENTE {nome}, sua nota é {nota_classificacao} - CRÍTICO🚨\")\n",
    "else:\n",
    "    print(\"NOTA INVÁLIDA\")"
   ]
  },
  {
   "cell_type": "markdown",
   "id": "bcc0218d",
   "metadata": {},
   "source": [
    "### MEDIA\n"
   ]
  },
  {
   "cell_type": "code",
   "execution_count": 1,
   "id": "50c75d4f",
   "metadata": {},
   "outputs": [
    {
     "name": "stdout",
     "output_type": "stream",
     "text": [
      "MÉDIA ARTMÉTICA: 7.0\n"
     ]
    }
   ],
   "source": [
    "### SOMAR TODOS OS NÚMEROS.\n",
    "###DIVIDA PELA QUANTIDADE DE NÚNEROS\n",
    "valores=[5,7,9]\n",
    "media=sum(valores)/len(valores)\n",
    "print(\"MÉDIA ARTMÉTICA:\",media)"
   ]
  },
  {
   "cell_type": "markdown",
   "id": "70ca2fa4",
   "metadata": {},
   "source": [
    "### MEDIA\n"
   ]
  },
  {
   "cell_type": "code",
   "execution_count": 7,
   "id": "faa5012b",
   "metadata": {},
   "outputs": [
    {
     "name": "stdout",
     "output_type": "stream",
     "text": [
      "MÉDIA PODERADA: 7.8\n"
     ]
    }
   ],
   "source": [
    "### MULTIPLIQUE CADA NÚMERO PELO SEU PESO\n",
    "###SOME OS RESLTADOS.\n",
    "### DIVIDA PELA SOMA DOS PESOS.\n",
    "valores=[7,8,8]#números\n",
    "pesos=[2,3,5]#pesos\n",
    "soma_ponderada=sum(v*p for v,p in zip(valores,pesos)) #multiplica e soma\n",
    "soma_pesos=sum(pesos)\n",
    "media_ponderada=soma_ponderada/soma_pesos #divide\n",
    "print(\"MÉDIA PODERADA:\",media_ponderada) #exibe a média poderada\n"
   ]
  },
  {
   "cell_type": "markdown",
   "id": "9c2d3ac3",
   "metadata": {},
   "source": [
    "### media "
   ]
  },
  {
   "cell_type": "code",
   "execution_count": 5,
   "id": "de99ffd4",
   "metadata": {},
   "outputs": [
    {
     "name": "stdout",
     "output_type": "stream",
     "text": [
      "MÉDIA GEOMÉTRICA: 4.0\n"
     ]
    }
   ],
   "source": [
    "### MULTIPLIQUE TODOS OS NÚMEROS\n",
    "### TIRE  A RAIZ DO RESULTADO PELO NÚMERO TOTAL DE VALORES\n",
    "import math\n",
    "valores=[2,8]                              #lista de números                       \n",
    "produto=math.prod(valores)                 #multiplicar todos os números\n",
    "media_geom=produto**(1/len(valores))       #raiz\n",
    "print(\"MÉDIA GEOMÉTRICA:\",media_geom)      #EXIBE A MÉDIA GEOMÉTRICA\n",
    "\n"
   ]
  },
  {
   "cell_type": "markdown",
   "id": "592b0ae0",
   "metadata": {},
   "source": [
    "MEDIA"
   ]
  },
  {
   "cell_type": "code",
   "execution_count": null,
   "id": "417696db",
   "metadata": {},
   "outputs": [],
   "source": []
  }
 ],
 "metadata": {
  "kernelspec": {
   "display_name": "Python 3",
   "language": "python",
   "name": "python3"
  },
  "language_info": {
   "codemirror_mode": {
    "name": "ipython",
    "version": 3
   },
   "file_extension": ".py",
   "mimetype": "text/x-python",
   "name": "python",
   "nbconvert_exporter": "python",
   "pygments_lexer": "ipython3",
   "version": "3.13.2"
  }
 },
 "nbformat": 4,
 "nbformat_minor": 5
}
